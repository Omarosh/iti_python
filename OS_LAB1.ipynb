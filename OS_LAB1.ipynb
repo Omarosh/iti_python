{
  "nbformat": 4,
  "nbformat_minor": 0,
  "metadata": {
    "colab": {
      "name": "OS_LAB1.ipynb",
      "provenance": [],
      "collapsed_sections": [],
      "authorship_tag": "ABX9TyPHJL8yMdCV8DVcrdrfRDFN",
      "include_colab_link": true
    },
    "kernelspec": {
      "name": "python3",
      "display_name": "Python 3"
    },
    "language_info": {
      "name": "python"
    }
  },
  "cells": [
    {
      "cell_type": "markdown",
      "metadata": {
        "id": "view-in-github",
        "colab_type": "text"
      },
      "source": [
        "<a href=\"https://colab.research.google.com/github/Omarosh/iti_python/blob/main/OS_LAB1.ipynb\" target=\"_parent\"><img src=\"https://colab.research.google.com/assets/colab-badge.svg\" alt=\"Open In Colab\"/></a>"
      ]
    },
    {
      "cell_type": "markdown",
      "source": [
        "\n",
        "**Problem 1**\n",
        "\n",
        "---\n",
        "Given two points represented as x1,y1,x2,y2 .\n",
        "Return the (float) distance between them considering the following\n",
        "distance equation.\n",
        "Hint\n",
        "math.sqrt() could be a useful function.\n"
      ],
      "metadata": {
        "id": "FpoLJWPrV84Y"
      }
    },
    {
      "cell_type": "code",
      "execution_count": null,
      "metadata": {
        "colab": {
          "base_uri": "https://localhost:8080/"
        },
        "id": "PmldiUBzV2tn",
        "outputId": "344193f6-c758-4fbb-f007-f7a6cfbf71bd"
      },
      "outputs": [
        {
          "output_type": "stream",
          "name": "stdout",
          "text": [
            "3.605551275463989\n"
          ]
        }
      ],
      "source": [
        "import math\n",
        "p1 = {'x':2.0, 'y':3.0}\n",
        "p2 = {'x':4.0, 'y':6.0}\n",
        "\n",
        "distance = math.sqrt((p1['x']-p2['x'])**2 + (p1['y']-p2['y'])**2)\n",
        "print(distance)"
      ]
    },
    {
      "cell_type": "markdown",
      "source": [
        "**Problem 2**\n",
        "\n",
        "---\n",
        "\n",
        "\n",
        "Given a list of numbers, create a function that returns a list where all similar\n",
        "elements have been reduced to a single element.\n",
        "So [1, 2, 2, 3, 2] returns [1, 2, 3]"
      ],
      "metadata": {
        "id": "w-klMcSCYIDN"
      }
    },
    {
      "cell_type": "code",
      "source": [
        "mylist = [2,3,2,3,2,2,4,5,10,20,30]\n",
        "list(set(mylist))"
      ],
      "metadata": {
        "colab": {
          "base_uri": "https://localhost:8080/"
        },
        "id": "04NKLxP6YJe5",
        "outputId": "17686ad1-4161-45c8-d2fc-e64b7ed85fca"
      },
      "execution_count": null,
      "outputs": [
        {
          "output_type": "execute_result",
          "data": {
            "text/plain": [
              "[2, 3, 4, 5, 10, 20, 30]"
            ]
          },
          "metadata": {},
          "execution_count": 6
        }
      ]
    },
    {
      "cell_type": "markdown",
      "source": [
        "**Problem 3**\n",
        "\n",
        "---\n",
        "\n",
        "\n",
        "Consider dividing a string into two halves.\n",
        "Case 1:\n",
        "The length is even, the front and back halves are the same length.\n",
        "Case 2:\n",
        "The length is odd, we'll say that the extra char goes in the front half.\n",
        "\n",
        "\n",
        "---\n",
        "\n",
        "\n",
        "e.g. 'abcde', the front half is 'abc', the back half 'de'.\n",
        "Given 2 strings, a and b, return a string of the form :\n",
        "(a-front + b-front) + (a-back + b-back)\n"
      ],
      "metadata": {
        "id": "zdb1f4KGYKZ0"
      }
    },
    {
      "cell_type": "code",
      "source": [
        "import math\n",
        "def h1(str):\n",
        "  return str[:math.ceil(len(str)/2)]\n",
        "def h2(str):\n",
        "  return str[math.ceil(len(str)/2):]\n",
        "a = \"omar\"\n",
        "b = \"ahmed\"\n",
        "print(f\"({h1(a)} + {h1(b)}) + ({h2(a)} + {h2(b)})\")"
      ],
      "metadata": {
        "colab": {
          "base_uri": "https://localhost:8080/"
        },
        "id": "dCaDg4xRYKnt",
        "outputId": "b7bc11dc-b384-4347-e9a3-52a8e2548d87"
      },
      "execution_count": null,
      "outputs": [
        {
          "output_type": "stream",
          "name": "stdout",
          "text": [
            "(om + ahm) + (ar + ed)\n"
          ]
        }
      ]
    },
    {
      "cell_type": "markdown",
      "source": [
        "**Problem 4**\n",
        "\n",
        "---\n",
        "\n",
        "\n",
        "The program takes a command line argument. This argument is the name of\n",
        "a text file. The program reads all the text, split them and calculate the 20\n",
        "Most used words in the file and then write them to a file called\n",
        "“popular_words.txt”.\n",
        "Implementation hint:\n",
        "my_str.split() #returns a List of my_str content by default separated by\n",
        "space.\n",
        "We can change the delimiter by passing it to split method\n",
        "Example:\n",
        "my_str.split(‘,’) #split by comma."
      ],
      "metadata": {
        "id": "Ghoc-hF_YRBo"
      }
    },
    {
      "cell_type": "code",
      "source": [
        "from collections import Counter\n",
        "import sys\n",
        "\n",
        "#WON'T WORK HERE.. NEEDS TO RUN IN COMMAND LINE\n",
        "file = sys.argv[1]\n",
        "fp = open(file,\"r\")\n",
        "text = fp.read()\n",
        "fp.close()\n",
        "words = [res[0] for res in  Counter(text.split()).most_common(20) ]\n",
        "fp = open(\"popular_words.txt\", \"w\")\n",
        "fp.write(\" \". join(words))\n",
        "fp.close()"
      ],
      "metadata": {
        "id": "0GR96f1PYRBq"
      },
      "execution_count": null,
      "outputs": []
    },
    {
      "cell_type": "markdown",
      "source": [
        "**Problem 5**\n",
        "\n",
        "---\n",
        "\n",
        "\n",
        "The program takes a string and remove the vowels character from it then\n",
        "print its new version\n",
        "Implementation hint:\n",
        "So, “Mobile” becomes “Mbl”\n",
        "\n"
      ],
      "metadata": {
        "id": "qXHqIV-QYRBr"
      }
    },
    {
      "cell_type": "code",
      "source": [
        "str = \"ahmed\"\n",
        "print(\"\".join([ x for x in str if x.lower() not in \"aeoui\"]))"
      ],
      "metadata": {
        "colab": {
          "base_uri": "https://localhost:8080/"
        },
        "id": "0UNrdQmKYRBs",
        "outputId": "9282ac74-943a-48bf-ac38-cddb02669972"
      },
      "execution_count": null,
      "outputs": [
        {
          "output_type": "stream",
          "name": "stdout",
          "text": [
            "hmd\n"
          ]
        }
      ]
    },
    {
      "cell_type": "markdown",
      "source": [
        "**Problem 6**\n",
        "\n",
        "---\n",
        "\n",
        "\n",
        "The program takes a string and a character and returns a list with all the\n",
        "locations that character was found in the given string.\n",
        "Implementation hint:\n",
        "String “Google” char ‘o’\n",
        "Outoupt: [1,2]"
      ],
      "metadata": {
        "id": "82jfc8YPYReX"
      }
    },
    {
      "cell_type": "code",
      "source": [
        "st = \"Google\"\n",
        "ch = \"o\"\n",
        "out = []\n",
        "for i in range(len(st)):\n",
        "  if (st[i] == ch):\n",
        "    out.append(i) \n",
        "print(out)"
      ],
      "metadata": {
        "colab": {
          "base_uri": "https://localhost:8080/"
        },
        "id": "9wZK6f87YReY",
        "outputId": "02b71273-fc50-4366-b852-e1bfe93dbc0f"
      },
      "execution_count": null,
      "outputs": [
        {
          "output_type": "stream",
          "name": "stdout",
          "text": [
            "[1, 2]\n"
          ]
        }
      ]
    },
    {
      "cell_type": "markdown",
      "source": [
        "**Bonus**\n",
        "\n",
        "---\n",
        "\n",
        "\n",
        "Your game generates a random number and give only 10 tries for the user to guess that\n",
        "number.\n",
        "Get the user input and compare it with the random number.\n",
        "Display a hint message to the user in case the user number is smaller or bigger than the\n",
        "random number.\n",
        "If the user typed a number out of range(100), display a message that is not allowed and\n",
        "don’t count this as a try.\n",
        "if the user typed a number that has been entered before, display a hint message and\n",
        "don’t count this as a try also.\n",
        "In case the user entered a correct number within the 10 tries, display a congratulations\n",
        "message and let your\n",
        "application guess another random number with the remain number of tries.\n",
        "If the user finished his all tries, display a message to ask him if he want to play a gain or\n",
        "not.\n",
        "Next time the user open the game , he receives a welcome message tells him the number\n",
        "of games he played, how\n",
        "many times he won and how many he lost.\n"
      ],
      "metadata": {
        "id": "tSpDavWaYReY"
      }
    },
    {
      "cell_type": "code",
      "source": [
        "\n",
        "import random\n",
        "from datetime import datetime\n",
        "random.seed(datetime.now())\n",
        "\n",
        "def playAgain():\n",
        "  user = input(\"Do you want to play again? Y or N? : \")\n",
        "  if user.lower() == \"y\":\n",
        "    return True\n",
        "  else:\n",
        "    return False\n",
        "\n",
        "maxTries = 10\n",
        "closeFlag = True\n",
        "while(closeFlag):\n",
        "  print(\"\\n========NEW GAME=========\\n\")\n",
        "  gen = random.randint(1, 100)\n",
        "  print(f\"A Random number between [1,100] Generated! Time to guess!   (answer is {gen})\")\n",
        "  tries = []\n",
        "  flag = True\n",
        "  while(flag):\n",
        "    if len(tries)<10 :\n",
        "      print(f\"Ramaining tries:{maxTries - len(tries)}\")\n",
        "      guess = input(\"Enter your guess: \")\n",
        "      if guess.isnumeric():\n",
        "        if guess not in tries:\n",
        "          if int(guess) == gen:\n",
        "            print(\"Correct! Congratulations! YOU WON!\")\n",
        "            closeFlag = playAgain()\n",
        "            flag = False\n",
        "            tries.append(guess)\n",
        "          elif int(guess) < gen and int(guess)>0 :\n",
        "            print(\"Your guess is smaller than the number\")\n",
        "            tries.append(guess)\n",
        "          elif int(guess) > gen and int(guess)<=100 :\n",
        "            print(\"Your guess is bigger than the number\")\n",
        "            tries.append(guess)\n",
        "          else:\n",
        "            print(\"Error! out of boundary [1,100]\")\n",
        "        else:\n",
        "          print(\"You already used this guess. Try another\")\n",
        "      else:\n",
        "        print(\"Invalid Number! Try again!\")\n",
        "    else:\n",
        "      print(\"Game over! You finished your tries\")\n",
        "      closeFlag = playAgain()\n",
        "      flag = False"
      ],
      "metadata": {
        "colab": {
          "base_uri": "https://localhost:8080/"
        },
        "id": "K6he580ZYReY",
        "outputId": "76245b4e-3ec3-440d-9037-2ec3cb847874"
      },
      "execution_count": null,
      "outputs": [
        {
          "name": "stdout",
          "output_type": "stream",
          "text": [
            "\n",
            "========NEW GAME=========\n",
            "\n",
            "A Random number between [1,100] Generated! Time to guess!   (answer is 4)\n",
            "Ramaining tries:10\n",
            "Enter your guess: 2\n",
            "Your guess is smaller than the number\n",
            "Ramaining tries:9\n",
            "Enter your guess: 10\n",
            "Your guess is bigger than the number\n",
            "Ramaining tries:8\n",
            "Enter your guess: 0\n",
            "Error! out of boundary [1,100]\n",
            "Ramaining tries:8\n",
            "Enter your guess: 120\n",
            "Error! out of boundary [1,100]\n",
            "Ramaining tries:8\n",
            "Enter your guess: vvsdv\n",
            "Invalid Number! Try again!\n",
            "Ramaining tries:8\n",
            "Enter your guess: 4\n",
            "Correct! Congratulations! YOU WON!\n",
            "Do you want to play again? Y or N? : N\n"
          ]
        }
      ]
    },
    {
      "cell_type": "markdown",
      "source": [
        "**Report**\n",
        "\n",
        "---\n",
        "\n",
        "\n",
        "1. Python function enumerate()\n",
        "Show what it does, how it works, and support your answer with an example.\n",
        "2. Lambda expression Anonymous function\n",
        "3. Import operator module and explore its functions"
      ],
      "metadata": {
        "id": "rjjnlsC8YTCh"
      }
    },
    {
      "cell_type": "code",
      "source": [
        "# 11111111111111\n",
        "print(\"==1==\")\n",
        "mystr = \"Omar\"\n",
        "enum = enumerate(mystr)\n",
        "for i,s in enum:\n",
        "  print([i,s])\n",
        "\n",
        "#22222222222\n",
        "print(\"==2==\")\n",
        "def myfunc(n):\n",
        "  return lambda a : a * n\n",
        "s = myfunc(2)\n",
        "print(s(3))\n",
        "\n",
        "#33333333333\n",
        "print(\"==3==\")\n",
        "import operator  \n",
        "\n",
        "x = 8 \n",
        "y = 2\n",
        "print([operator.add(x, y),\n",
        "operator.sub(x, y) ,\n",
        "operator.mul(x, y), \n",
        "operator.truediv(x, y),\n",
        "operator.pow(x,y)])"
      ],
      "metadata": {
        "colab": {
          "base_uri": "https://localhost:8080/"
        },
        "id": "7P63SbCEYTCh",
        "outputId": "80546ef3-abf4-4aaa-cbfd-eff2c7936fa6"
      },
      "execution_count": null,
      "outputs": [
        {
          "output_type": "stream",
          "name": "stdout",
          "text": [
            "==1==\n",
            "[0, 'O']\n",
            "[1, 'm']\n",
            "[2, 'a']\n",
            "[3, 'r']\n",
            "==2==\n",
            "6\n",
            "==3==\n",
            "[10, 6, 16, 4.0, 64]\n"
          ]
        }
      ]
    },
    {
      "cell_type": "markdown",
      "source": [
        "1. Enumerate() method adds a counter to an iterable and returns it in a form of enumerating object. This enumerated object can then be used directly for loops or converted into a list of tuples using the list() method.\n",
        "The iterable is any object that supports iteration. ex: string\n",
        "\n",
        "\n",
        "---\n",
        "2. A lambda function is a small anonymous function.\n",
        "\n",
        "A lambda function can take any number of arguments, but can only have one expression.\n",
        "The power of lambda is better shown when you use them as an anonymous function inside another function.\n",
        "\n",
        "\n",
        "\n",
        "---\n",
        "3. the operator module performs various operations and operates two input numbers in a Python program. The Python operator module is one of the inbuilt modules in Python, and it provides us with a lot of functions such as add(x, y), floordiv(x, y) etc., which we can use to perform various mathematical, relational, logical and bitwise operations on two input numbers. \n"
      ],
      "metadata": {
        "id": "Ll-1SMRSYTCi"
      }
    }
  ]
}